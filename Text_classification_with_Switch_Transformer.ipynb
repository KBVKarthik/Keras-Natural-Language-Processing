{
  "nbformat": 4,
  "nbformat_minor": 0,
  "metadata": {
    "colab": {
      "name": "Text classification with Switch Transformer.ipynb",
      "provenance": [],
      "authorship_tag": "ABX9TyNho/zJJzt8HErvkHMJE+7x",
      "include_colab_link": true
    },
    "kernelspec": {
      "name": "python3",
      "display_name": "Python 3"
    },
    "language_info": {
      "name": "python"
    },
    "accelerator": "GPU"
  },
  "cells": [
    {
      "cell_type": "markdown",
      "metadata": {
        "id": "view-in-github",
        "colab_type": "text"
      },
      "source": [
        "<a href=\"https://colab.research.google.com/github/KBVKarthik/Keras-Natural-Language-Processing/blob/main/Text_classification_with_Switch_Transformer.ipynb\" target=\"_parent\"><img src=\"https://colab.research.google.com/assets/colab-badge.svg\" alt=\"Open In Colab\"/></a>"
      ]
    },
    {
      "cell_type": "code",
      "metadata": {
        "id": "isSBk3MNSn95"
      },
      "source": [
        "import tensorflow as tf\n",
        "from tensorflow import keras\n",
        "from tensorflow.keras import layers"
      ],
      "execution_count": 15,
      "outputs": []
    },
    {
      "cell_type": "code",
      "metadata": {
        "colab": {
          "base_uri": "https://localhost:8080/"
        },
        "id": "IkXUL8ZtSwK3",
        "outputId": "a23cfa98-6384-4bc4-dccd-e9f7721d4c4b"
      },
      "source": [
        "vocab_size = 20000  \n",
        "num_tokens_per_example = 200  \n",
        "(x_train, y_train), (x_val, y_val) = keras.datasets.imdb.load_data(num_words=vocab_size)\n",
        "print(len(x_train), \"Training sequences\")\n",
        "print(len(x_val), \"Validation sequences\")\n",
        "x_train = keras.preprocessing.sequence.pad_sequences(\n",
        "    x_train, maxlen=num_tokens_per_example\n",
        ")\n",
        "x_val = keras.preprocessing.sequence.pad_sequences(x_val, maxlen=num_tokens_per_example)"
      ],
      "execution_count": 16,
      "outputs": [
        {
          "output_type": "stream",
          "text": [
            "Downloading data from https://storage.googleapis.com/tensorflow/tf-keras-datasets/imdb.npz\n",
            "17465344/17464789 [==============================] - 0s 0us/step\n"
          ],
          "name": "stdout"
        },
        {
          "output_type": "stream",
          "text": [
            "<string>:6: VisibleDeprecationWarning: Creating an ndarray from ragged nested sequences (which is a list-or-tuple of lists-or-tuples-or ndarrays with different lengths or shapes) is deprecated. If you meant to do this, you must specify 'dtype=object' when creating the ndarray\n",
            "/usr/local/lib/python3.7/dist-packages/tensorflow/python/keras/datasets/imdb.py:155: VisibleDeprecationWarning: Creating an ndarray from ragged nested sequences (which is a list-or-tuple of lists-or-tuples-or ndarrays with different lengths or shapes) is deprecated. If you meant to do this, you must specify 'dtype=object' when creating the ndarray\n",
            "  x_train, y_train = np.array(xs[:idx]), np.array(labels[:idx])\n",
            "/usr/local/lib/python3.7/dist-packages/tensorflow/python/keras/datasets/imdb.py:156: VisibleDeprecationWarning: Creating an ndarray from ragged nested sequences (which is a list-or-tuple of lists-or-tuples-or ndarrays with different lengths or shapes) is deprecated. If you meant to do this, you must specify 'dtype=object' when creating the ndarray\n",
            "  x_test, y_test = np.array(xs[idx:]), np.array(labels[idx:])\n"
          ],
          "name": "stderr"
        },
        {
          "output_type": "stream",
          "text": [
            "25000 Training sequences\n",
            "25000 Validation sequences\n"
          ],
          "name": "stdout"
        }
      ]
    },
    {
      "cell_type": "code",
      "metadata": {
        "colab": {
          "base_uri": "https://localhost:8080/"
        },
        "id": "6cM75-YGS0Ex",
        "outputId": "4b4f1aaf-fbbf-46a2-f05d-880cea902b22"
      },
      "source": [
        "embed_dim = 32  \n",
        "num_heads = 2  \n",
        "ff_dim = 32  \n",
        "num_experts = 10  \n",
        "batch_size = 50  \n",
        "learning_rate = 0.001  \n",
        "dropout_rate = 0.25  \n",
        "num_epochs = 3  \n",
        "num_tokens_per_batch = (\n",
        "    batch_size * num_tokens_per_example\n",
        ")  # Total number of tokens per batch.\n",
        "print(f\"Number of tokens per batch: {num_tokens_per_batch}\")"
      ],
      "execution_count": 17,
      "outputs": [
        {
          "output_type": "stream",
          "text": [
            "Number of tokens per batch: 10000\n"
          ],
          "name": "stdout"
        }
      ]
    },
    {
      "cell_type": "code",
      "metadata": {
        "id": "mdadscYHS7ju"
      },
      "source": [
        "\n",
        "class TokenAndPositionEmbedding(layers.Layer):\n",
        "    def __init__(self, maxlen, vocab_size, embed_dim):\n",
        "        super(TokenAndPositionEmbedding, self).__init__()\n",
        "        self.token_emb = layers.Embedding(input_dim=vocab_size, output_dim=embed_dim)\n",
        "        self.pos_emb = layers.Embedding(input_dim=maxlen, output_dim=embed_dim)\n",
        "\n",
        "    def call(self, x):\n",
        "        maxlen = tf.shape(x)[-1]\n",
        "        positions = tf.range(start=0, limit=maxlen, delta=1)\n",
        "        positions = self.pos_emb(positions)\n",
        "        x = self.token_emb(x)\n",
        "        return x + positions"
      ],
      "execution_count": 18,
      "outputs": []
    },
    {
      "cell_type": "code",
      "metadata": {
        "id": "kRbFta2DS9nW"
      },
      "source": [
        "\n",
        "def create_feedforward_network(ff_dim, name=None):\n",
        "    return keras.Sequential(\n",
        "        [layers.Dense(ff_dim, activation=\"relu\"), layers.Dense(ff_dim)], name=name\n",
        "    )\n"
      ],
      "execution_count": 19,
      "outputs": []
    },
    {
      "cell_type": "code",
      "metadata": {
        "id": "YzQPkxxzS_XU"
      },
      "source": [
        "\n",
        "def load_balanced_loss(router_probs, expert_mask):\n",
        "\n",
        "\n",
        "    num_experts = tf.shape(expert_mask)[-1]\n",
        "\n",
        "    density = tf.reduce_mean(expert_mask, axis=0)\n",
        "\n",
        "    density_proxy = tf.reduce_mean(router_probs, axis=0)\n",
        "\n",
        "    loss = tf.reduce_mean(density_proxy * density) * tf.cast(\n",
        "        (num_experts ** 2), tf.dtypes.float32\n",
        "    )\n",
        "    return loss"
      ],
      "execution_count": 20,
      "outputs": []
    },
    {
      "cell_type": "code",
      "metadata": {
        "id": "VS-NOMFrTD_4"
      },
      "source": [
        "class Router(layers.Layer):\n",
        "    def __init__(self, num_experts, expert_capacity):\n",
        "        self.num_experts = num_experts\n",
        "        self.route = layers.Dense(units=num_experts)\n",
        "        self.expert_capacity = expert_capacity\n",
        "        super(Router, self).__init__()\n",
        "\n",
        "    def call(self, inputs, training=False):\n",
        "\n",
        "        router_logits = self.route(inputs)\n",
        "\n",
        "        if training:\n",
        "\n",
        "            router_logits += tf.random.uniform(\n",
        "                shape=router_logits.shape, minval=0.9, maxval=1.1\n",
        "            )\n",
        "\n",
        "        router_probs = keras.activations.softmax(router_logits, axis=-1)\n",
        "\n",
        "        expert_gate, expert_index = tf.math.top_k(router_probs, k=1)\n",
        "\n",
        "        expert_mask = tf.one_hot(expert_index, depth=self.num_experts)\n",
        "\n",
        "        aux_loss = load_balanced_loss(router_probs, expert_mask)\n",
        "        self.add_loss(aux_loss)\n",
        "\n",
        "        position_in_expert = tf.cast(\n",
        "            tf.math.cumsum(expert_mask, axis=0) * expert_mask, tf.dtypes.int32\n",
        "        )\n",
        "\n",
        "        expert_mask *= tf.cast(\n",
        "            tf.math.less(\n",
        "                tf.cast(position_in_expert, tf.dtypes.int32), self.expert_capacity\n",
        "            ),\n",
        "            tf.dtypes.float32,\n",
        "        )\n",
        "        expert_mask_flat = tf.reduce_sum(expert_mask, axis=-1)\n",
        "\n",
        "        expert_gate *= expert_mask_flat\n",
        "\n",
        "        combined_tensor = tf.expand_dims(\n",
        "            expert_gate\n",
        "            * expert_mask_flat\n",
        "            * tf.squeeze(tf.one_hot(expert_index, depth=self.num_experts), 1),\n",
        "            -1,\n",
        "        ) * tf.squeeze(tf.one_hot(position_in_expert, depth=self.expert_capacity), 1)\n",
        "\n",
        "        dispatch_tensor = tf.cast(combined_tensor, tf.dtypes.float32)\n",
        "\n",
        "        return dispatch_tensor, combined_tensor\n"
      ],
      "execution_count": 21,
      "outputs": []
    },
    {
      "cell_type": "code",
      "metadata": {
        "id": "cPTWJUYmTN65"
      },
      "source": [
        "class Switch(layers.Layer):\n",
        "    def __init__(self, num_experts, embed_dim, num_tokens_per_batch, capacity_factor=1):\n",
        "        self.num_experts = num_experts\n",
        "        self.embed_dim = embed_dim\n",
        "        self.experts = [\n",
        "            create_feedforward_network(embed_dim) for _ in range(num_experts)\n",
        "        ]\n",
        "\n",
        "        self.expert_capacity = num_tokens_per_batch // self.num_experts\n",
        "        self.router = Router(self.num_experts, self.expert_capacity)\n",
        "        super(Switch, self).__init__()\n",
        "\n",
        "    def call(self, inputs):\n",
        "        batch_size = tf.shape(inputs)[0]\n",
        "        num_tokens_per_example = tf.shape(inputs)[1]\n",
        "\n",
        "    \n",
        "        inputs = tf.reshape(inputs, [num_tokens_per_batch, self.embed_dim])\n",
        "\n",
        "        dispatch_tensor, combine_tensor = self.router(inputs)\n",
        "     \n",
        "        expert_inputs = tf.einsum(\"ab,acd->cdb\", inputs, dispatch_tensor)\n",
        "        expert_inputs = tf.reshape(\n",
        "            expert_inputs, [self.num_experts, self.expert_capacity, self.embed_dim]\n",
        "        )\n",
        "      \n",
        "        expert_input_list = tf.unstack(expert_inputs, axis=0)\n",
        "        expert_output_list = [\n",
        "            self.experts[idx](expert_input)\n",
        "            for idx, expert_input in enumerate(expert_input_list)\n",
        "        ]\n",
        "    \n",
        "        expert_outputs = tf.stack(expert_output_list, axis=1)\n",
        "   \n",
        "        expert_outputs_combined = tf.einsum(\n",
        "            \"abc,xba->xc\", expert_outputs, combine_tensor\n",
        "        )\n",
        "     \n",
        "        outputs = tf.reshape(\n",
        "            expert_outputs_combined,\n",
        "            [batch_size, num_tokens_per_example, self.embed_dim],\n",
        "        )\n",
        "        return outputs\n"
      ],
      "execution_count": 22,
      "outputs": []
    },
    {
      "cell_type": "code",
      "metadata": {
        "id": "UCwISaNmTUvx"
      },
      "source": [
        "class TransformerBlock(layers.Layer):\n",
        "    def __init__(self, embed_dim, num_heads, ffn, dropout_rate=0.1):\n",
        "        super(TransformerBlock, self).__init__()\n",
        "        self.att = layers.MultiHeadAttention(num_heads=num_heads, key_dim=embed_dim)\n",
        "\n",
        "        self.ffn = ffn\n",
        "        self.layernorm1 = layers.LayerNormalization(epsilon=1e-6)\n",
        "        self.layernorm2 = layers.LayerNormalization(epsilon=1e-6)\n",
        "        self.dropout1 = layers.Dropout(dropout_rate)\n",
        "        self.dropout2 = layers.Dropout(dropout_rate)\n",
        "\n",
        "    def call(self, inputs, training):\n",
        "        attn_output = self.att(inputs, inputs)\n",
        "        attn_output = self.dropout1(attn_output, training=training)\n",
        "        out1 = self.layernorm1(inputs + attn_output)\n",
        "        ffn_output = self.ffn(out1)\n",
        "        ffn_output = self.dropout2(ffn_output, training=training)\n",
        "        return self.layernorm2(out1 + ffn_output)"
      ],
      "execution_count": 23,
      "outputs": []
    },
    {
      "cell_type": "code",
      "metadata": {
        "id": "Pem_hi4yTYOB"
      },
      "source": [
        "def create_classifier():\n",
        "    switch = Switch(num_experts, embed_dim, num_tokens_per_batch)\n",
        "    transformer_block = TransformerBlock(ff_dim, num_heads, switch)\n",
        "\n",
        "    inputs = layers.Input(shape=(num_tokens_per_example,))\n",
        "    embedding_layer = TokenAndPositionEmbedding(\n",
        "        num_tokens_per_example, vocab_size, embed_dim\n",
        "    )\n",
        "    x = embedding_layer(inputs)\n",
        "    x = transformer_block(x)\n",
        "    x = layers.GlobalAveragePooling1D()(x)\n",
        "    x = layers.Dropout(dropout_rate)(x)\n",
        "    x = layers.Dense(ff_dim, activation=\"relu\")(x)\n",
        "    x = layers.Dropout(dropout_rate)(x)\n",
        "    outputs = layers.Dense(2, activation=\"softmax\")(x)\n",
        "\n",
        "    classifier = keras.Model(inputs=inputs, outputs=outputs)\n",
        "    return classifier"
      ],
      "execution_count": 24,
      "outputs": []
    },
    {
      "cell_type": "code",
      "metadata": {
        "colab": {
          "base_uri": "https://localhost:8080/"
        },
        "id": "QOpy-5tzTaGX",
        "outputId": "205b3439-cd1d-4c1f-e905-dda61e8d04bc"
      },
      "source": [
        "\n",
        "def run_experiment(classifier):\n",
        "    classifier.compile(\n",
        "        optimizer=keras.optimizers.Adam(learning_rate),\n",
        "        loss=\"sparse_categorical_crossentropy\",\n",
        "        metrics=[\"accuracy\"],\n",
        "    )\n",
        "    history = classifier.fit(\n",
        "        x_train,\n",
        "        y_train,\n",
        "        batch_size=batch_size,\n",
        "        epochs=num_epochs,\n",
        "        validation_data=(x_val, y_val),\n",
        "    )\n",
        "    return history\n",
        "\n",
        "\n",
        "classifier = create_classifier()\n",
        "run_experiment(classifier)\n"
      ],
      "execution_count": 25,
      "outputs": [
        {
          "output_type": "stream",
          "text": [
            "Epoch 1/3\n",
            "500/500 [==============================] - 60s 115ms/step - loss: 1.4038 - accuracy: 0.8071 - val_loss: 1.2958 - val_accuracy: 0.8746\n",
            "Epoch 2/3\n",
            "500/500 [==============================] - 57s 114ms/step - loss: 1.2043 - accuracy: 0.9226 - val_loss: 1.3217 - val_accuracy: 0.8671\n",
            "Epoch 3/3\n",
            "500/500 [==============================] - 51s 102ms/step - loss: 1.1371 - accuracy: 0.9505 - val_loss: 1.3922 - val_accuracy: 0.8605\n"
          ],
          "name": "stdout"
        },
        {
          "output_type": "execute_result",
          "data": {
            "text/plain": [
              "<tensorflow.python.keras.callbacks.History at 0x7f531e0c8950>"
            ]
          },
          "metadata": {
            "tags": []
          },
          "execution_count": 25
        }
      ]
    }
  ]
}